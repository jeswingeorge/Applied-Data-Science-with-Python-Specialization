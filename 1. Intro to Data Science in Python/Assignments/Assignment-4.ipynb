{
 "cells": [
  {
   "cell_type": "markdown",
   "metadata": {},
   "source": [
    "---\n",
    "\n",
    "_You are currently looking at **version 1.1** of this notebook. To download notebooks and datafiles, as well as get help on Jupyter notebooks in the Coursera platform, visit the [Jupyter Notebook FAQ](https://www.coursera.org/learn/python-data-analysis/resources/0dhYG) course resource._\n",
    "\n",
    "---"
   ]
  },
  {
   "cell_type": "code",
   "execution_count": 1,
   "metadata": {
    "collapsed": true
   },
   "outputs": [],
   "source": [
    "import pandas as pd\n",
    "import numpy as np\n",
    "from scipy.stats import ttest_ind\n",
    "import re"
   ]
  },
  {
   "cell_type": "markdown",
   "metadata": {},
   "source": [
    "# Assignment 4 - Hypothesis Testing\n",
    "This assignment requires more individual learning than previous assignments - you are encouraged to check out the [pandas documentation](http://pandas.pydata.org/pandas-docs/stable/) to find functions or methods you might not have used yet, or ask questions on [Stack Overflow](http://stackoverflow.com/) and tag them as pandas and python related. And of course, the discussion forums are open for interaction with your peers and the course staff.\n",
    "\n",
    "Definitions:\n",
    "* A _quarter_ is a specific three month period, Q1 is January through March, Q2 is April through June, Q3 is July through September, Q4 is October through December.\n",
    "* A _recession_ is defined as starting with two consecutive quarters of GDP decline, and ending with two consecutive quarters of GDP growth.\n",
    "* A _recession bottom_ is the quarter within a recession which had the lowest GDP.\n",
    "* A _university town_ is a city which has a high percentage of university students compared to the total population of the city.\n",
    "\n",
    "**Hypothesis**: University towns have their mean housing prices less effected by recessions. Run a t-test to compare the ratio of the mean price of houses in university towns the quarter before the recession starts compared to the recession bottom. (`price_ratio=quarter_before_recession/recession_bottom`)\n",
    "\n",
    "The following data files are available for this assignment:\n",
    "* From the [Zillow research data site](http://www.zillow.com/research/data/) there is housing data for the United States. In particular the datafile for [all homes at a city level](http://files.zillowstatic.com/research/public/City/City_Zhvi_AllHomes.csv), ```City_Zhvi_AllHomes.csv```, has median home sale prices at a fine grained level.\n",
    "* From the Wikipedia page on college towns is a list of [university towns in the United States](https://en.wikipedia.org/wiki/List_of_college_towns#College_towns_in_the_United_States) which has been copy and pasted into the file ```university_towns.txt```.\n",
    "* From Bureau of Economic Analysis, US Department of Commerce, the [GDP over time](http://www.bea.gov/national/index.htm#gdp) of the United States in current dollars (use the chained value in 2009 dollars), in quarterly intervals, in the file ```gdplev.xls```. For this assignment, only look at GDP data from the first quarter of 2000 onward.\n",
    "\n",
    "Each function in this assignment below is worth 10%, with the exception of ```run_ttest()```, which is worth 50%."
   ]
  },
  {
   "cell_type": "code",
   "execution_count": 2,
   "metadata": {
    "collapsed": true
   },
   "outputs": [],
   "source": [
    "# Use this dictionary to map state names to two letter acronyms\n",
    "states = {'OH': 'Ohio', 'KY': 'Kentucky', 'AS': 'American Samoa', 'NV': 'Nevada', 'WY': 'Wyoming', 'NA': 'National', \n",
    "          'AL': 'Alabama', 'MD': 'Maryland', 'AK': 'Alaska', 'UT': 'Utah', 'OR': 'Oregon', 'MT': 'Montana', 'IL': 'Illinois', \n",
    "          'TN': 'Tennessee', 'DC': 'District of Columbia', 'VT': 'Vermont', 'ID': 'Idaho', 'AR': 'Arkansas', 'ME': 'Maine', \n",
    "          'WA': 'Washington', 'HI': 'Hawaii', 'WI': 'Wisconsin', 'MI': 'Michigan', 'IN': 'Indiana', 'NJ': 'New Jersey',\n",
    "          'AZ': 'Arizona', 'GU': 'Guam', 'MS': 'Mississippi', 'PR': 'Puerto Rico', 'NC': 'North Carolina', 'TX': 'Texas', \n",
    "          'SD': 'South Dakota', 'MP': 'Northern Mariana Islands', 'IA': 'Iowa', 'MO': 'Missouri', 'CT': 'Connecticut', \n",
    "          'WV': 'West Virginia', 'SC': 'South Carolina', 'LA': 'Louisiana', 'KS': 'Kansas', 'NY': 'New York', 'NE': 'Nebraska',\n",
    "          'OK': 'Oklahoma', 'FL': 'Florida', 'CA': 'California', 'CO': 'Colorado', 'PA': 'Pennsylvania', 'DE': 'Delaware', \n",
    "          'NM': 'New Mexico', 'RI': 'Rhode Island', 'MN': 'Minnesota', 'VI': 'Virgin Islands', 'NH': 'New Hampshire',\n",
    "          'MA': 'Massachusetts', 'GA': 'Georgia', 'ND': 'North Dakota', 'VA': 'Virginia'}\n",
    "# states"
   ]
  },
  {
   "cell_type": "code",
   "execution_count": 3,
   "metadata": {
    "umich_part_id": "021",
    "umich_partlist_id": "004"
   },
   "outputs": [
    {
     "data": {
      "text/html": [
       "<div>\n",
       "<table border=\"1\" class=\"dataframe\">\n",
       "  <thead>\n",
       "    <tr style=\"text-align: right;\">\n",
       "      <th></th>\n",
       "      <th>State</th>\n",
       "      <th>RegionName</th>\n",
       "    </tr>\n",
       "  </thead>\n",
       "  <tbody>\n",
       "    <tr>\n",
       "      <th>0</th>\n",
       "      <td>Alabama</td>\n",
       "      <td>Auburn</td>\n",
       "    </tr>\n",
       "    <tr>\n",
       "      <th>1</th>\n",
       "      <td>Alabama</td>\n",
       "      <td>Florence</td>\n",
       "    </tr>\n",
       "    <tr>\n",
       "      <th>2</th>\n",
       "      <td>Alabama</td>\n",
       "      <td>Jacksonville</td>\n",
       "    </tr>\n",
       "    <tr>\n",
       "      <th>3</th>\n",
       "      <td>Alabama</td>\n",
       "      <td>Livingston</td>\n",
       "    </tr>\n",
       "    <tr>\n",
       "      <th>4</th>\n",
       "      <td>Alabama</td>\n",
       "      <td>Montevallo</td>\n",
       "    </tr>\n",
       "  </tbody>\n",
       "</table>\n",
       "</div>"
      ],
      "text/plain": [
       "     State    RegionName\n",
       "0  Alabama        Auburn\n",
       "1  Alabama      Florence\n",
       "2  Alabama  Jacksonville\n",
       "3  Alabama    Livingston\n",
       "4  Alabama    Montevallo"
      ]
     },
     "execution_count": 3,
     "metadata": {},
     "output_type": "execute_result"
    }
   ],
   "source": [
    "def get_list_of_university_towns():\n",
    "    '''Returns a DataFrame of towns and the states they are in from the \n",
    "    university_towns.txt list. The format of the DataFrame should be:\n",
    "    DataFrame( [ [\"Michigan\", \"Ann Arbor\"], [\"Michigan\", \"Yipsilanti\"] ], \n",
    "    columns=[\"State\", \"RegionName\"]  )\n",
    "    \n",
    "    The following cleaning needs to be done:\n",
    "\n",
    "    1. For \"State\", removing characters from \"[\" to the end.\n",
    "    2. For \"RegionName\", when applicable, removing every character from \" (\" to the end.\n",
    "    3. Depending on how you read the data, you may need to remove newline character '\\n'. '''\n",
    "    \n",
    "    university_towns = pd.read_fwf(\"university_towns.txt\", header = None)\n",
    "    \n",
    "    regions_by_state = {}\n",
    "    for name in university_towns.iloc[:,0]:\n",
    "        if '[edit]' in name:\n",
    "            key = name.replace('[edit]', '')\n",
    "            regions_by_state[key] = []\n",
    "        else:\n",
    "            regions_by_state[key].append(re.sub(r' \\(.*', '', name))\n",
    "            \n",
    "    final_df = pd.DataFrame()\n",
    "    for key in regions_by_state.keys():\n",
    "        temp = pd.DataFrame()\n",
    "        temp['RegionName'] = regions_by_state[key]\n",
    "        temp['State'] = [key for i in range(len(temp['RegionName']))]\n",
    "        temp = temp[['State', 'RegionName']]\n",
    "        final_df = pd.concat([final_df, temp])\n",
    "\n",
    "\n",
    "    final_df.index = list(range(len(final_df)))\n",
    "    \n",
    "    return final_df\n",
    "\n",
    "get_list_of_university_towns().head()"
   ]
  },
  {
   "cell_type": "code",
   "execution_count": 4,
   "metadata": {
    "umich_part_id": "022",
    "umich_partlist_id": "004"
   },
   "outputs": [
    {
     "data": {
      "text/plain": [
       "'2008q3'"
      ]
     },
     "execution_count": 4,
     "metadata": {},
     "output_type": "execute_result"
    }
   ],
   "source": [
    "def get_recession_start():\n",
    "    '''Returns the year and quarter of the recession start time as a \n",
    "    string value in a format such as 2005q3'''\n",
    "    \n",
    "    gdp_df = pd.read_excel('gdplev.xls', skiprows = 7)\n",
    "    gdp_df = gdp_df.iloc[:, [4,6]]\n",
    "    gdp_df.columns = ['year_qtr', 'gdp']\n",
    "    \n",
    "    mask = gdp_df.year_qtr.apply(lambda x: True if (int(re.sub(r'q\\d','',x)) >= 2000) else False)\n",
    "    gdp_df = gdp_df.loc[mask,:]\n",
    "    gdp_df.index = list(range(len(gdp_df)))\n",
    "    \n",
    "    \n",
    "    for i in range(len(gdp_df)-2):\n",
    "        if (gdp_df['gdp'][i] > gdp_df['gdp'][i+1]) & (gdp_df['gdp'][i+1] > gdp_df['gdp'][i+2]):\n",
    "            if (i>0):\n",
    "                if (gdp_df['gdp'][i-1] < gdp_df['gdp'][i]) & (gdp_df['gdp'][i] > gdp_df['gdp'][i+1]) & (gdp_df['gdp'][i+1] > gdp_df['gdp'][i+2]):\n",
    "                    return(gdp_df['year_qtr'][i+1])\n",
    "            \n",
    "            return(gdp_df['year_qtr'][i])\n",
    "\n",
    "get_recession_start()"
   ]
  },
  {
   "cell_type": "markdown",
   "metadata": {},
   "source": [
    "Example for the definitions: Suppose q1 < q2 > q3 > q4 > q5 < q6 < q7 < q8. Then, the recession start is q3, bottom is q5 and end is q7. Note that q2 is not a recession start as an upward surge is observed in this period (it is the quarter before the recession start in this case).\n",
    "\n"
   ]
  },
  {
   "cell_type": "code",
   "execution_count": 5,
   "metadata": {
    "umich_part_id": "023",
    "umich_partlist_id": "004"
   },
   "outputs": [
    {
     "data": {
      "text/plain": [
       "'2009q4'"
      ]
     },
     "execution_count": 5,
     "metadata": {},
     "output_type": "execute_result"
    }
   ],
   "source": [
    "def get_recession_end():\n",
    "    '''Returns the year and quarter of the recession end time as a \n",
    "    string value in a format such as 2005q3'''\n",
    "    \n",
    "    gdp_df = pd.read_excel('gdplev.xls', skiprows = 7)\n",
    "    gdp_df = gdp_df.iloc[:, [4,6]]\n",
    "    gdp_df.columns = ['year_qtr', 'gdp']\n",
    "    \n",
    "    mask = gdp_df.year_qtr.apply(lambda x: True if (int(re.sub(r'q\\d','',x)) >= 2000) else False)\n",
    "    gdp_df = gdp_df.loc[mask,:]\n",
    "    gdp_df.index = list(range(len(gdp_df)))\n",
    "    \n",
    "    recession_start = get_recession_start()\n",
    "    i = gdp_df['year_qtr'].index[gdp_df['year_qtr']==recession_start].values[0] + 1\n",
    "    \n",
    "    while (True):\n",
    "        ## if recession bottom is present\n",
    "        if (gdp_df['gdp'][i] > gdp_df['gdp'][i+1]) & (gdp_df['gdp'][i+1] < gdp_df['gdp'][i+2]) & (gdp_df['gdp'][i+2] < gdp_df['gdp'][i+3]):\n",
    "            return(gdp_df['year_qtr'][i+3])\n",
    "        elif (gdp_df['gdp'][i] < gdp_df['gdp'][i+1]) & (gdp_df['gdp'][i+1] < gdp_df['gdp'][i+2]):\n",
    "            return(gdp_df['year_qtr'][i+2])\n",
    "        \n",
    "        i+=1\n",
    "\n",
    "\n",
    "get_recession_end()"
   ]
  },
  {
   "cell_type": "code",
   "execution_count": null,
   "metadata": {
    "umich_part_id": "024",
    "umich_partlist_id": "004"
   },
   "outputs": [
    {
     "data": {
      "text/plain": [
       "'2009q2'"
      ]
     },
     "execution_count": 6,
     "metadata": {},
     "output_type": "execute_result"
    }
   ],
   "source": [
    "def get_recession_bottom():\n",
    "    '''Returns the year and quarter of the recession bottom time as a \n",
    "    string value in a format such as 2005q3'''\n",
    "      \n",
    "    gdp_df = pd.read_excel('gdplev.xls', skiprows = 7)\n",
    "    gdp_df = gdp_df.iloc[:, [4,6]]\n",
    "    gdp_df.columns = ['year_qtr', 'gdp']\n",
    "\n",
    "    mask = gdp_df.year_qtr.apply(lambda x: True if (int(re.sub(r'q\\d','',x)) >= 2000) else False)\n",
    "    gdp_df = gdp_df.loc[mask,:]\n",
    "    gdp_df.index = list(range(len(gdp_df)))\n",
    "\n",
    "\n",
    "    recession_start = get_recession_start()\n",
    "    i = gdp_df['year_qtr'].index[gdp_df['year_qtr']==recession_start].values[0] + 1\n",
    "    \n",
    "    while (True):\n",
    "        ## if recession bottom is present\n",
    "        if (gdp_df['gdp'][i] > gdp_df['gdp'][i+1]) & (gdp_df['gdp'][i+1] < gdp_df['gdp'][i+2]) & (gdp_df['gdp'][i+2] < gdp_df['gdp'][i+3]):\n",
    "            return(gdp_df['year_qtr'][i+1])\n",
    "        elif (gdp_df['gdp'][i] < gdp_df['gdp'][i+1]) & (gdp_df['gdp'][i+1] < gdp_df['gdp'][i+2]):\n",
    "            return(gdp_df['year_qtr'][i])\n",
    "        \n",
    "        i+=1\n",
    "\n",
    "get_recession_bottom()"
   ]
  },
  {
   "cell_type": "code",
   "execution_count": null,
   "metadata": {
    "umich_part_id": "025",
    "umich_partlist_id": "004"
   },
   "outputs": [
    {
     "data": {
      "text/html": [
       "<div>\n",
       "<table border=\"1\" class=\"dataframe\">\n",
       "  <thead>\n",
       "    <tr style=\"text-align: right;\">\n",
       "      <th></th>\n",
       "      <th></th>\n",
       "      <th>2000q1</th>\n",
       "      <th>2000q2</th>\n",
       "      <th>2000q3</th>\n",
       "      <th>2000q4</th>\n",
       "      <th>2001q1</th>\n",
       "      <th>2001q2</th>\n",
       "      <th>2001q3</th>\n",
       "      <th>2001q4</th>\n",
       "      <th>2002q1</th>\n",
       "      <th>2002q2</th>\n",
       "      <th>...</th>\n",
       "      <th>2014q2</th>\n",
       "      <th>2014q3</th>\n",
       "      <th>2014q4</th>\n",
       "      <th>2015q1</th>\n",
       "      <th>2015q2</th>\n",
       "      <th>2015q3</th>\n",
       "      <th>2015q4</th>\n",
       "      <th>2016q1</th>\n",
       "      <th>2016q2</th>\n",
       "      <th>2016q3</th>\n",
       "    </tr>\n",
       "    <tr>\n",
       "      <th>State</th>\n",
       "      <th>RegionName</th>\n",
       "      <th></th>\n",
       "      <th></th>\n",
       "      <th></th>\n",
       "      <th></th>\n",
       "      <th></th>\n",
       "      <th></th>\n",
       "      <th></th>\n",
       "      <th></th>\n",
       "      <th></th>\n",
       "      <th></th>\n",
       "      <th></th>\n",
       "      <th></th>\n",
       "      <th></th>\n",
       "      <th></th>\n",
       "      <th></th>\n",
       "      <th></th>\n",
       "      <th></th>\n",
       "      <th></th>\n",
       "      <th></th>\n",
       "      <th></th>\n",
       "      <th></th>\n",
       "    </tr>\n",
       "  </thead>\n",
       "  <tbody>\n",
       "    <tr>\n",
       "      <th>NY</th>\n",
       "      <th>New York</th>\n",
       "      <td>NaN</td>\n",
       "      <td>NaN</td>\n",
       "      <td>NaN</td>\n",
       "      <td>NaN</td>\n",
       "      <td>NaN</td>\n",
       "      <td>NaN</td>\n",
       "      <td>NaN</td>\n",
       "      <td>NaN</td>\n",
       "      <td>NaN</td>\n",
       "      <td>NaN</td>\n",
       "      <td>...</td>\n",
       "      <td>515466.666667</td>\n",
       "      <td>522800.000000</td>\n",
       "      <td>528066.666667</td>\n",
       "      <td>532266.666667</td>\n",
       "      <td>540800.000000</td>\n",
       "      <td>557200.000000</td>\n",
       "      <td>572833.333333</td>\n",
       "      <td>582866.666667</td>\n",
       "      <td>591633.333333</td>\n",
       "      <td>587200.0</td>\n",
       "    </tr>\n",
       "    <tr>\n",
       "      <th>CA</th>\n",
       "      <th>Los Angeles</th>\n",
       "      <td>207066.666667</td>\n",
       "      <td>214466.666667</td>\n",
       "      <td>220966.666667</td>\n",
       "      <td>226166.666667</td>\n",
       "      <td>233000.000000</td>\n",
       "      <td>239100.000000</td>\n",
       "      <td>245066.666667</td>\n",
       "      <td>253033.333333</td>\n",
       "      <td>261966.666667</td>\n",
       "      <td>272700.000000</td>\n",
       "      <td>...</td>\n",
       "      <td>498033.333333</td>\n",
       "      <td>509066.666667</td>\n",
       "      <td>518866.666667</td>\n",
       "      <td>528800.000000</td>\n",
       "      <td>538166.666667</td>\n",
       "      <td>547266.666667</td>\n",
       "      <td>557733.333333</td>\n",
       "      <td>566033.333333</td>\n",
       "      <td>577466.666667</td>\n",
       "      <td>584050.0</td>\n",
       "    </tr>\n",
       "    <tr>\n",
       "      <th>IL</th>\n",
       "      <th>Chicago</th>\n",
       "      <td>138400.000000</td>\n",
       "      <td>143633.333333</td>\n",
       "      <td>147866.666667</td>\n",
       "      <td>152133.333333</td>\n",
       "      <td>156933.333333</td>\n",
       "      <td>161800.000000</td>\n",
       "      <td>166400.000000</td>\n",
       "      <td>170433.333333</td>\n",
       "      <td>175500.000000</td>\n",
       "      <td>177566.666667</td>\n",
       "      <td>...</td>\n",
       "      <td>192633.333333</td>\n",
       "      <td>195766.666667</td>\n",
       "      <td>201266.666667</td>\n",
       "      <td>201066.666667</td>\n",
       "      <td>206033.333333</td>\n",
       "      <td>208300.000000</td>\n",
       "      <td>207900.000000</td>\n",
       "      <td>206066.666667</td>\n",
       "      <td>208200.000000</td>\n",
       "      <td>212000.0</td>\n",
       "    </tr>\n",
       "    <tr>\n",
       "      <th>PA</th>\n",
       "      <th>Philadelphia</th>\n",
       "      <td>53000.000000</td>\n",
       "      <td>53633.333333</td>\n",
       "      <td>54133.333333</td>\n",
       "      <td>54700.000000</td>\n",
       "      <td>55333.333333</td>\n",
       "      <td>55533.333333</td>\n",
       "      <td>56266.666667</td>\n",
       "      <td>57533.333333</td>\n",
       "      <td>59133.333333</td>\n",
       "      <td>60733.333333</td>\n",
       "      <td>...</td>\n",
       "      <td>113733.333333</td>\n",
       "      <td>115300.000000</td>\n",
       "      <td>115666.666667</td>\n",
       "      <td>116200.000000</td>\n",
       "      <td>117966.666667</td>\n",
       "      <td>121233.333333</td>\n",
       "      <td>122200.000000</td>\n",
       "      <td>123433.333333</td>\n",
       "      <td>126933.333333</td>\n",
       "      <td>128700.0</td>\n",
       "    </tr>\n",
       "    <tr>\n",
       "      <th>AZ</th>\n",
       "      <th>Phoenix</th>\n",
       "      <td>111833.333333</td>\n",
       "      <td>114366.666667</td>\n",
       "      <td>116000.000000</td>\n",
       "      <td>117400.000000</td>\n",
       "      <td>119600.000000</td>\n",
       "      <td>121566.666667</td>\n",
       "      <td>122700.000000</td>\n",
       "      <td>124300.000000</td>\n",
       "      <td>126533.333333</td>\n",
       "      <td>128366.666667</td>\n",
       "      <td>...</td>\n",
       "      <td>164266.666667</td>\n",
       "      <td>165366.666667</td>\n",
       "      <td>168500.000000</td>\n",
       "      <td>171533.333333</td>\n",
       "      <td>174166.666667</td>\n",
       "      <td>179066.666667</td>\n",
       "      <td>183833.333333</td>\n",
       "      <td>187900.000000</td>\n",
       "      <td>191433.333333</td>\n",
       "      <td>195200.0</td>\n",
       "    </tr>\n",
       "  </tbody>\n",
       "</table>\n",
       "<p>5 rows × 67 columns</p>\n",
       "</div>"
      ],
      "text/plain": [
       "                           2000q1         2000q2         2000q3  \\\n",
       "State RegionName                                                  \n",
       "NY    New York                NaN            NaN            NaN   \n",
       "CA    Los Angeles   207066.666667  214466.666667  220966.666667   \n",
       "IL    Chicago       138400.000000  143633.333333  147866.666667   \n",
       "PA    Philadelphia   53000.000000   53633.333333   54133.333333   \n",
       "AZ    Phoenix       111833.333333  114366.666667  116000.000000   \n",
       "\n",
       "                           2000q4         2001q1         2001q2  \\\n",
       "State RegionName                                                  \n",
       "NY    New York                NaN            NaN            NaN   \n",
       "CA    Los Angeles   226166.666667  233000.000000  239100.000000   \n",
       "IL    Chicago       152133.333333  156933.333333  161800.000000   \n",
       "PA    Philadelphia   54700.000000   55333.333333   55533.333333   \n",
       "AZ    Phoenix       117400.000000  119600.000000  121566.666667   \n",
       "\n",
       "                           2001q3         2001q4         2002q1  \\\n",
       "State RegionName                                                  \n",
       "NY    New York                NaN            NaN            NaN   \n",
       "CA    Los Angeles   245066.666667  253033.333333  261966.666667   \n",
       "IL    Chicago       166400.000000  170433.333333  175500.000000   \n",
       "PA    Philadelphia   56266.666667   57533.333333   59133.333333   \n",
       "AZ    Phoenix       122700.000000  124300.000000  126533.333333   \n",
       "\n",
       "                           2002q2    ...            2014q2         2014q3  \\\n",
       "State RegionName                     ...                                    \n",
       "NY    New York                NaN    ...     515466.666667  522800.000000   \n",
       "CA    Los Angeles   272700.000000    ...     498033.333333  509066.666667   \n",
       "IL    Chicago       177566.666667    ...     192633.333333  195766.666667   \n",
       "PA    Philadelphia   60733.333333    ...     113733.333333  115300.000000   \n",
       "AZ    Phoenix       128366.666667    ...     164266.666667  165366.666667   \n",
       "\n",
       "                           2014q4         2015q1         2015q2  \\\n",
       "State RegionName                                                  \n",
       "NY    New York      528066.666667  532266.666667  540800.000000   \n",
       "CA    Los Angeles   518866.666667  528800.000000  538166.666667   \n",
       "IL    Chicago       201266.666667  201066.666667  206033.333333   \n",
       "PA    Philadelphia  115666.666667  116200.000000  117966.666667   \n",
       "AZ    Phoenix       168500.000000  171533.333333  174166.666667   \n",
       "\n",
       "                           2015q3         2015q4         2016q1  \\\n",
       "State RegionName                                                  \n",
       "NY    New York      557200.000000  572833.333333  582866.666667   \n",
       "CA    Los Angeles   547266.666667  557733.333333  566033.333333   \n",
       "IL    Chicago       208300.000000  207900.000000  206066.666667   \n",
       "PA    Philadelphia  121233.333333  122200.000000  123433.333333   \n",
       "AZ    Phoenix       179066.666667  183833.333333  187900.000000   \n",
       "\n",
       "                           2016q2    2016q3  \n",
       "State RegionName                             \n",
       "NY    New York      591633.333333  587200.0  \n",
       "CA    Los Angeles   577466.666667  584050.0  \n",
       "IL    Chicago       208200.000000  212000.0  \n",
       "PA    Philadelphia  126933.333333  128700.0  \n",
       "AZ    Phoenix       191433.333333  195200.0  \n",
       "\n",
       "[5 rows x 67 columns]"
      ]
     },
     "execution_count": 7,
     "metadata": {},
     "output_type": "execute_result"
    }
   ],
   "source": [
    "def convert_housing_data_to_quarters():\n",
    "    '''Converts the housing data to quarters and returns it as mean \n",
    "    values in a dataframe. This dataframe should be a dataframe with\n",
    "    columns for 2000q1 through 2016q3, and should have a multi-index\n",
    "    in the shape of [\"State\",\"RegionName\"].\n",
    "    \n",
    "    Note: Quarters are defined in the assignment description, they are\n",
    "    not arbitrary three month periods.\n",
    "    \n",
    "    The resulting dataframe should have 67 columns, and 10,730 rows.\n",
    "    '''\n",
    "    \n",
    "    house = pd.read_csv(\"City_Zhvi_AllHomes.csv\")\n",
    "    house = house.set_index(['State', 'RegionName'])\n",
    "    house = house.loc[:, house.columns[house.columns.str.contains(pat = \n",
    "                                                                  '20[0-9]{2}-[0-9]{2}', \n",
    "                                                                  regex = True)]]\n",
    "\n",
    "\n",
    "    for year in range(2000, 2016):\n",
    "        house[str(year) + 'q1'] = house[[str(year)+'-01', str(year)+'-02', str(year)+'-03']].apply(np.mean, axis = 1)\n",
    "        house[str(year) + 'q2'] = house[[str(year)+'-04', str(year)+'-05', str(year)+'-06']].apply(np.mean, axis = 1)\n",
    "        house[str(year) + 'q3'] = house[[str(year)+'-07', str(year)+'-08', str(year)+'-09']].apply(np.mean, axis = 1)\n",
    "        house[str(year) + 'q4'] = house[[str(year)+'-10', str(year)+'-11', str(year)+'-12']].apply(np.mean, axis = 1)\n",
    "\n",
    "    house = house.drop([str(x)+'-'+y for x in range(2000,2016) for y in ['01', '02', '03', '04', '05', '06', '07', '08', '09', '10', '11', '12']] \n",
    "                       , axis = 1)\n",
    "\n",
    "    house['2016'+'q1'] = house[['2016'+'-01', '2016'+'-02','2016'+'-03']].apply(np.mean, axis = 1)\n",
    "    house['2016'+'q2'] = house[['2016'+'-04', '2016'+'-05','2016'+'-06']].apply(np.mean, axis = 1)\n",
    "    house['2016'+'q3'] = house[['2016'+'-07', '2016'+'-08']].apply(np.mean, axis = 1)\n",
    "\n",
    "    house = house.drop(['2016-'+x for x in ['01', '02', '03', '04', '05', '06', '07', '08']], axis = 1)\n",
    "    \n",
    "    return house\n",
    "\n",
    "data = convert_housing_data_to_quarters()\n",
    "data.head()"
   ]
  },
  {
   "cell_type": "markdown",
   "metadata": {},
   "source": [
    "data.head()"
   ]
  },
  {
   "cell_type": "markdown",
   "metadata": {},
   "source": [
    "recession_start = get_recession_start()\n",
    "recession_bottom = get_recession_bottom()\n",
    "print(\"rece start = \",recession_start)\n",
    "print(\"rece bottom = \", recession_bottom)"
   ]
  },
  {
   "cell_type": "markdown",
   "metadata": {},
   "source": [
    "df = data.loc[:, [recession_start,recession_bottom]].reset_index()\n",
    "df['State'] = df['State'].apply(lambda x: states[x])\n",
    "df['Ratio'] = df[recession_start]/df[recession_bottom]\n",
    "df = df[['State', 'RegionName', 'Ratio']]\n",
    "df['combin'] = df['State'] + '|' + df['RegionName']\n",
    "df.head()"
   ]
  },
  {
   "cell_type": "markdown",
   "metadata": {},
   "source": [
    "df.shape"
   ]
  },
  {
   "cell_type": "markdown",
   "metadata": {},
   "source": [
    "df.head()"
   ]
  },
  {
   "cell_type": "markdown",
   "metadata": {},
   "source": [
    "university_towns_list = get_list_of_university_towns()\n",
    "university_towns_list.head()"
   ]
  },
  {
   "cell_type": "markdown",
   "metadata": {},
   "source": [
    "university_towns_list.shape"
   ]
  },
  {
   "cell_type": "markdown",
   "metadata": {},
   "source": [
    "university_towns = pd.merge(university_towns_list, df, how = 'inner',\n",
    "                            left_on=['State', 'RegionName'],right_on=['State', 'RegionName'])\n",
    "university_towns.head()"
   ]
  },
  {
   "cell_type": "markdown",
   "metadata": {},
   "source": [
    "non_university_towns = df.loc[~df['combin'].isin(university_towns['combin']),:]\n",
    "non_university_towns.head()"
   ]
  },
  {
   "cell_type": "markdown",
   "metadata": {},
   "source": [
    "non_university_towns.shape"
   ]
  },
  {
   "cell_type": "markdown",
   "metadata": {
    "collapsed": true
   },
   "source": [
    "university_towns = university_towns[['State', 'RegionName', 'Ratio']]\n",
    "university_towns = university_towns.set_index(['State', 'RegionName'])\n",
    "non_university_towns = non_university_towns[['State', 'RegionName', 'Ratio']]\n",
    "non_university_towns = non_university_towns.set_index(['State', 'RegionName'])\n",
    "university_towns.head()"
   ]
  },
  {
   "cell_type": "markdown",
   "metadata": {
    "collapsed": true
   },
   "source": [
    "non_university_towns.head()"
   ]
  },
  {
   "cell_type": "markdown",
   "metadata": {},
   "source": [
    "np.sum(non_university_towns['Ratio'])"
   ]
  },
  {
   "cell_type": "markdown",
   "metadata": {},
   "source": [
    "tstat, p_value = ttest_ind(university_towns['Ratio'].dropna(), non_university_towns['Ratio'].dropna())\n",
    "tstat, p_value"
   ]
  },
  {
   "cell_type": "markdown",
   "metadata": {},
   "source": [
    "different = True if (p_value < 0.01) else False"
   ]
  },
  {
   "cell_type": "markdown",
   "metadata": {},
   "source": [
    "better = \"university town\" if (university_towns['Ratio'].mean() < \n",
    "                               non_university_towns['Ratio'].mean()) else \"non-university town\"\n"
   ]
  },
  {
   "cell_type": "markdown",
   "metadata": {},
   "source": [
    "(different, p_value, better)"
   ]
  },
  {
   "cell_type": "markdown",
   "metadata": {
    "collapsed": true
   },
   "source": []
  },
  {
   "cell_type": "markdown",
   "metadata": {},
   "source": [
    "__Ho(Null hypothesis):__ \n",
    "\n",
    "__Ha(Alternate hypothesis):__ "
   ]
  },
  {
   "cell_type": "code",
   "execution_count": null,
   "metadata": {
    "umich_part_id": "026",
    "umich_partlist_id": "004"
   },
   "outputs": [
    {
     "data": {
      "text/plain": [
       "(True, 0.0054964273536938875, 'university town')"
      ]
     },
     "execution_count": 8,
     "metadata": {},
     "output_type": "execute_result"
    }
   ],
   "source": [
    "def run_ttest():\n",
    "    '''First creates new data showing the decline or growth of housing prices\n",
    "    between the recession start and the recession bottom. Then runs a ttest\n",
    "    comparing the university town values to the non-university towns values, \n",
    "    return whether the alternative hypothesis (that the two groups are the same)\n",
    "    is true or not as well as the p-value of the confidence. \n",
    "    \n",
    "    Return the tuple (different, p, better) where different=True if the t-test is\n",
    "    True at a p<0.01 (we reject the null hypothesis), or different=False if \n",
    "    otherwise (we cannot reject the null hypothesis). The variable p should\n",
    "    be equal to the exact p value returned from scipy.stats.ttest_ind(). The\n",
    "    value for better should be either \"university town\" or \"non-university town\"\n",
    "    depending on which has a lower mean price ratio (which is equivilent to a\n",
    "    reduced market loss).'''\n",
    "    \n",
    "    recession_start = get_recession_start()\n",
    "    recession_bottom = get_recession_bottom()\n",
    "\n",
    "    df = data.loc[:, [recession_start,recession_bottom]].reset_index()\n",
    "    df['State'] = df['State'].apply(lambda x: states[x])\n",
    "    df['Ratio'] = df[recession_start]/df[recession_bottom]\n",
    "    df = df[['State', 'RegionName', 'Ratio']]\n",
    "    df['combin'] = df['State'] + '|' + df['RegionName']\n",
    "\n",
    "    university_towns_list = get_list_of_university_towns()\n",
    "\n",
    "    # university towns with price ratio\n",
    "    university_towns = pd.merge(university_towns_list, df, how = 'inner',\n",
    "                            left_on=['State', 'RegionName'],right_on=['State', 'RegionName'])\n",
    "\n",
    "    # non-university data\n",
    "    non_university_towns = df.loc[~df['combin'].isin(university_towns['combin']),:]\n",
    "\n",
    "    university_towns = university_towns[['State', 'RegionName', 'Ratio']]\n",
    "    university_towns = university_towns.set_index(['State', 'RegionName'])\n",
    "    non_university_towns = non_university_towns[['State', 'RegionName', 'Ratio']]\n",
    "    non_university_towns = non_university_towns.set_index(['State', 'RegionName'])\n",
    "\n",
    "    # t-test\n",
    "    tstat, p_value = ttest_ind(university_towns['Ratio'].dropna(), non_university_towns['Ratio'].dropna())\n",
    "\n",
    "\n",
    "    different = True if (p_value < 0.01) else False\n",
    "    better = \"university town\" if (university_towns['Ratio'].mean() < \n",
    "                               non_university_towns['Ratio'].mean()) else \"non-university town\"\n",
    "\n",
    "\n",
    "    return (different, p_value, better)\n",
    "\n",
    "\n",
    "run_ttest()"
   ]
  }
 ],
 "metadata": {
  "coursera": {
   "course_slug": "python-data-analysis",
   "graded_item_id": "Il9Fx",
   "launcher_item_id": "TeDW0",
   "part_id": "WGlun"
  },
  "kernelspec": {
   "display_name": "Python 3",
   "language": "python",
   "name": "python3"
  },
  "language_info": {
   "codemirror_mode": {
    "name": "ipython",
    "version": 3
   },
   "file_extension": ".py",
   "mimetype": "text/x-python",
   "name": "python",
   "nbconvert_exporter": "python",
   "pygments_lexer": "ipython3",
   "version": "3.6.2"
  },
  "umich": {
   "id": "Assignment 4",
   "version": "1.1"
  }
 },
 "nbformat": 4,
 "nbformat_minor": 1
}
